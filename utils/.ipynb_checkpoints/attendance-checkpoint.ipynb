{
 "cells": [
  {
   "cell_type": "code",
   "execution_count": 1,
   "metadata": {},
   "outputs": [],
   "source": [
    "import pandas as pd"
   ]
  },
  {
   "cell_type": "code",
   "execution_count": 4,
   "metadata": {
    "scrolled": true
   },
   "outputs": [],
   "source": [
    "df = pd.read_csv(\"updated_punch_data.csv\")"
   ]
  },
  {
   "cell_type": "code",
   "execution_count": null,
   "metadata": {},
   "outputs": [],
   "source": [
    "!conda update pandas"
   ]
  },
  {
   "cell_type": "code",
   "execution_count": 8,
   "metadata": {},
   "outputs": [
    {
     "data": {
      "text/plain": [
       "array([['PP', 'PP', 'AA', ..., 'AP', 'AA', 'AA'],\n",
       "       ['AA', 'AP', 'AA', ..., 'AP', 'AP', 'AA'],\n",
       "       ['AA', 'AA', 'AA', ..., 'AA', 'AA', 'AA'],\n",
       "       ...,\n",
       "       ['AP', 'AP', 'AA', ..., 'AA', 'PP', 'AA'],\n",
       "       ['AA', 'AA', 'AA', ..., 'AP', 'PP', 'AA'],\n",
       "       ['AA', 'AP', 'AA', ..., 'AA', 'AA', 'AA']], dtype=object)"
      ]
     },
     "execution_count": 8,
     "metadata": {},
     "output_type": "execute_result"
    }
   ],
   "source": [
    "df[df.columns[1:-1]].values"
   ]
  },
  {
   "cell_type": "code",
   "execution_count": null,
   "metadata": {},
   "outputs": [],
   "source": []
  }
 ],
 "metadata": {
  "kernelspec": {
   "display_name": "dashenv",
   "language": "python",
   "name": "dashenv"
  },
  "language_info": {
   "codemirror_mode": {
    "name": "ipython",
    "version": 3
   },
   "file_extension": ".py",
   "mimetype": "text/x-python",
   "name": "python",
   "nbconvert_exporter": "python",
   "pygments_lexer": "ipython3",
   "version": "3.10.12"
  }
 },
 "nbformat": 4,
 "nbformat_minor": 2
}
