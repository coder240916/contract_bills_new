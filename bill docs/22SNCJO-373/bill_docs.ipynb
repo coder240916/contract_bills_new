{
 "cells": [
  {
   "cell_type": "code",
   "execution_count": 1,
   "metadata": {},
   "outputs": [],
   "source": [
    "import pandas as pd\n",
    "from openpyxl import load_workbook"
   ]
  },
  {
   "cell_type": "code",
   "execution_count": 2,
   "metadata": {},
   "outputs": [],
   "source": [
    "file = \"attendance/attendance_format_2_2024.xlsx\""
   ]
  },
  {
   "cell_type": "code",
   "execution_count": 3,
   "metadata": {},
   "outputs": [],
   "source": [
    "from_date,to_date = pd.read_excel(file,sheet_name=\"ATTENDANCE\").iloc[0,[24,33]].values.tolist()"
   ]
  },
  {
   "cell_type": "code",
   "execution_count": 4,
   "metadata": {},
   "outputs": [],
   "source": [
    "# checklist data processing\n",
    "contract_st_dt = \"2024-03-20\"\n"
   ]
  },
  {
   "cell_type": "code",
   "execution_count": 5,
   "metadata": {},
   "outputs": [
    {
     "name": "stderr",
     "output_type": "stream",
     "text": [
      "C:\\Users\\CHINNUMINNU\\AppData\\Local\\Temp\\ipykernel_19748\\1794814154.py:6: FutureWarning: The default value of regex will change from True to False in a future version.\n",
      "  checklist_df[\"Remarks\"] = checklist_df[\"Remarks\"].str.replace(r'\\s+', ' ').fillna(\"NA\")\n"
     ]
    },
    {
     "data": {
      "text/html": [
       "<div>\n",
       "<style scoped>\n",
       "    .dataframe tbody tr th:only-of-type {\n",
       "        vertical-align: middle;\n",
       "    }\n",
       "\n",
       "    .dataframe tbody tr th {\n",
       "        vertical-align: top;\n",
       "    }\n",
       "\n",
       "    .dataframe thead th {\n",
       "        text-align: right;\n",
       "    }\n",
       "</style>\n",
       "<table border=\"1\" class=\"dataframe\">\n",
       "  <thead>\n",
       "    <tr style=\"text-align: right;\">\n",
       "      <th></th>\n",
       "      <th>Sl. No.</th>\n",
       "      <th>Documents</th>\n",
       "      <th>Remarks</th>\n",
       "    </tr>\n",
       "  </thead>\n",
       "  <tbody>\n",
       "    <tr>\n",
       "      <th>0</th>\n",
       "      <td>1</td>\n",
       "      <td>Agreement</td>\n",
       "      <td>SUBMITTED IN 1STRAR-31/08/2023</td>\n",
       "    </tr>\n",
       "    <tr>\n",
       "      <th>1</th>\n",
       "      <td>2</td>\n",
       "      <td>Security Deposit furnished &amp; detail</td>\n",
       "      <td>Rs. 7,40,388.00, Bgno.-0505523BG0002857, dt:-1...</td>\n",
       "    </tr>\n",
       "    <tr>\n",
       "      <th>2</th>\n",
       "      <td>3</td>\n",
       "      <td>Date of Acceptance letter / Accepted Amount</td>\n",
       "      <td>HAL/KPT/SNC/08/JO-373/2023/848, Dated: 22-08-2...</td>\n",
       "    </tr>\n",
       "    <tr>\n",
       "      <th>3</th>\n",
       "      <td>4</td>\n",
       "      <td>Date of commencement as per WO</td>\n",
       "      <td>20-03-2024</td>\n",
       "    </tr>\n",
       "    <tr>\n",
       "      <th>4</th>\n",
       "      <td>5</td>\n",
       "      <td>Date of completion as per WO</td>\n",
       "      <td>19-03-2026</td>\n",
       "    </tr>\n",
       "  </tbody>\n",
       "</table>\n",
       "</div>"
      ],
      "text/plain": [
       "   Sl. No.                                    Documents  \\\n",
       "0        1                                    Agreement   \n",
       "1        2          Security Deposit furnished & detail   \n",
       "2        3  Date of Acceptance letter / Accepted Amount   \n",
       "3        4              Date of commencement as per WO    \n",
       "4        5                 Date of completion as per WO   \n",
       "\n",
       "                                             Remarks  \n",
       "0                     SUBMITTED IN 1STRAR-31/08/2023  \n",
       "1  Rs. 7,40,388.00, Bgno.-0505523BG0002857, dt:-1...  \n",
       "2  HAL/KPT/SNC/08/JO-373/2023/848, Dated: 22-08-2...  \n",
       "3                                         20-03-2024  \n",
       "4                                         19-03-2026  "
      ]
     },
     "execution_count": 5,
     "metadata": {},
     "output_type": "execute_result"
    }
   ],
   "source": [
    "filename = \"attendance.xlsx\"\n",
    "contract_end_dt = (pd.to_datetime(contract_st_dt) + pd.DateOffset(months=24,days=-1)).date().strftime(\"%d-%m-%Y\")\n",
    "contract_st_dt = pd.to_datetime(contract_st_dt).date().strftime(\"%d-%m-%Y\")\n",
    "\n",
    "checklist_df = pd.read_excel(filename,sheet_name=\"CHECKLIST\",header=6,skipfooter=5)\n",
    "checklist_df[\"Remarks\"] = checklist_df[\"Remarks\"].str.replace(r'\\s+', ' ').fillna(\"NA\")\n",
    "checklist_df.loc[[3,4],\"Remarks\"] = contract_st_dt,contract_end_dt\n",
    "checklist_df.head()"
   ]
  },
  {
   "cell_type": "code",
   "execution_count": 24,
   "metadata": {},
   "outputs": [
    {
     "data": {
      "text/plain": [
       "'HAL/KPT/SNC/08/JO-373/2023/848, Dated: 22-08-2023 Rs 1,48,07,761.70/-'"
      ]
     },
     "execution_count": 24,
     "metadata": {},
     "output_type": "execute_result"
    }
   ],
   "source": [
    "\n",
    "\n",
    "checklist_df.loc[2,\"Remarks\"]"
   ]
  },
  {
   "cell_type": "code",
   "execution_count": 7,
   "metadata": {},
   "outputs": [
    {
     "data": {
      "text/plain": [
       "[{'Documents': 'Agreement', 'Remarks': 'SUBMITTED IN 1STRAR-31/08/2023'},\n",
       " {'Documents': 'Security Deposit furnished & detail',\n",
       "  'Remarks': 'Rs. 7,40,388.00, Bgno.-0505523BG0002857, dt:-16/09/2023'},\n",
       " {'Documents': 'Date of Acceptance letter / Accepted Amount',\n",
       "  'Remarks': 'HAL/KPT/SNC/08/JO-373/2023/848, Dated: 22-08-2023 Rs 1,48,07,761.70/-'},\n",
       " {'Documents': 'Date of commencement as per WO ', 'Remarks': '20-03-2024'},\n",
       " {'Documents': 'Date of completion as per WO', 'Remarks': '19-03-2026'},\n",
       " {'Documents': 'Actual date of completion (As given by EIC)',\n",
       "  'Remarks': '(RUNNING)'},\n",
       " {'Documents': 'ESI contribution paid', 'Remarks': 'YES'},\n",
       " {'Documents': 'PF contribution paid', 'Remarks': 'YES'},\n",
       " {'Documents': 'Wage certificate along with wage calculation sheet',\n",
       "  'Remarks': 'YES'},\n",
       " {'Documents': 'Duly signed MB Extract  Certification of EIC 100% & 10% checking by OIC in MB / Bill Copy',\n",
       "  'Remarks': 'YES'},\n",
       " {'Documents': 'Deployment of Engineer for supervising the work as per \\ncontract terms',\n",
       "  'Remarks': 'NA'},\n",
       " {'Documents': 'Water and Electricity charges', 'Remarks': 'NA'},\n",
       " {'Documents': 'Quantities are within BOQ Qty or DO Quantitites',\n",
       "  'Remarks': 'YES'},\n",
       " {'Documents': 'Material brought statement for material advance',\n",
       "  'Remarks': 'NA'},\n",
       " {'Documents': 'Test checked certificate certified by EIC', 'Remarks': 'NA'},\n",
       " {'Documents': 'NTI approval if claimed and Approval of FDO ',\n",
       "  'Remarks': 'NA'},\n",
       " {'Documents': 'Extension of Time Approval', 'Remarks': 'NA'},\n",
       " {'Documents': 'Amendment to Contract agreement', 'Remarks': 'NA'},\n",
       " {'Documents': 'Service guarantee certificate for specified jobs viz., water proofing, Anti termite',\n",
       "  'Remarks': 'NA'},\n",
       " {'Documents': 'Insurance coverage for the work as per contract conditions \\n(CAR POLICY)',\n",
       "  'Remarks': 'NA'},\n",
       " {'Documents': 'Indemnity Bond / Undertaking if any',\n",
       "  'Remarks': 'SUBMITTED DURING 1ST RAR-25/09/2023'},\n",
       " {'Documents': 'Workmen Compensation Bond', 'Remarks': 'NA'},\n",
       " {'Documents': 'Labour licence', 'Remarks': 'SUBMITTED ON 12/10/2023'},\n",
       " {'Documents': 'Insurance coverage for Material Advance', 'Remarks': 'NA'},\n",
       " {'Documents': 'Rate for material advance recommended', 'Remarks': 'NA'},\n",
       " {'Documents': 'Reconciliation statement\\nCement / Steel / Paint / Bitumen',\n",
       "  'Remarks': 'NA'},\n",
       " {'Documents': 'No claim certificate in case of Final Bill',\n",
       "  'Remarks': 'RUNNING'},\n",
       " {'Documents': 'Completion certificate issued by EIC', 'Remarks': 'RUNNING'},\n",
       " {'Documents': 'Attendance Entry', 'Remarks': 'YES'},\n",
       " {'Documents': 'CL Days & Holiday to be checked \\n(CL limit should not cross monthwise)',\n",
       "  'Remarks': 'NA'},\n",
       " {'Documents': 'Checking of mandays calculation', 'Remarks': 'YES'},\n",
       " {'Documents': 'Contractor calculation sheet to be checked with our calculations (compare the calculation as par with contractor calculation, and whichever is less that amount recommended for payment)',\n",
       "  'Remarks': 'YES'},\n",
       " {'Documents': 'Professional Tax challan & Breakup to be checked',\n",
       "  'Remarks': 'NA'},\n",
       " {'Documents': 'GST challan & Breakup to be checked', 'Remarks': 'YES'},\n",
       " {'Documents': 'Bank Statement should be matched with our calculation ',\n",
       "  'Remarks': 'YES'},\n",
       " {'Documents': 'Wage Register should be signed by SCLs', 'Remarks': 'YES'},\n",
       " {'Documents': 'Whether salary paid on or before 7th of that particular month to be checked other wise penalty is applicable',\n",
       "  'Remarks': 'YES'},\n",
       " {'Documents': 'If there is any amendment is there for VDA or Contract extension amendment contract agreement to be received within time limit specified in contract terms',\n",
       "  'Remarks': 'NO'}]"
      ]
     },
     "execution_count": 7,
     "metadata": {},
     "output_type": "execute_result"
    }
   ],
   "source": [
    "checklist_df[[\"Documents\",\"Remarks\"]].to_dict(orient='records')"
   ]
  },
  {
   "cell_type": "code",
   "execution_count": 15,
   "metadata": {},
   "outputs": [
    {
     "data": {
      "text/plain": [
       "'STPL/HAL/ED/07'"
      ]
     },
     "execution_count": 15,
     "metadata": {},
     "output_type": "execute_result"
    }
   ],
   "source": [
    "invoice_no = pd.read_excel(\"RAR_7/RAR_7.xlsx\",sheet_name=\"RAR\").iloc[10,0].split(\"-\")[1].strip()\n",
    "invoice_no"
   ]
  },
  {
   "cell_type": "code",
   "execution_count": 21,
   "metadata": {},
   "outputs": [],
   "source": [
    "workbook = load_workbook(\"attendance.xlsx\")\n",
    "sheet = workbook[\"CHECKLIST\"]"
   ]
  },
  {
   "cell_type": "code",
   "execution_count": null,
   "metadata": {},
   "outputs": [],
   "source": [
    "cell = sheet.cell(row=2,column=1)\n",
    "cell.value = "
   ]
  },
  {
   "cell_type": "code",
   "execution_count": null,
   "metadata": {},
   "outputs": [],
   "source": []
  },
  {
   "cell_type": "code",
   "execution_count": 1,
   "metadata": {},
   "outputs": [],
   "source": [
    "# undertaking format"
   ]
  },
  {
   "cell_type": "code",
   "execution_count": null,
   "metadata": {},
   "outputs": [],
   "source": [
    "undertaking_form_data = [\"Vendor's original invoice amount (including taxes)\",\"Is original invoice amount and IFS entered invoice amount equal\",\"Retention Money\",\"Keepback\",\"Penalty\",\n",
    "        \"Other Deductions, if any\",\"Rents (Quarter/Electricity/Water):Rs.\",]"
   ]
  }
 ],
 "metadata": {
  "kernelspec": {
   "display_name": "dashenv",
   "language": "python",
   "name": "dashenv"
  },
  "language_info": {
   "codemirror_mode": {
    "name": "ipython",
    "version": 3
   },
   "file_extension": ".py",
   "mimetype": "text/x-python",
   "name": "python",
   "nbconvert_exporter": "python",
   "pygments_lexer": "ipython3",
   "version": "3.10.12"
  }
 },
 "nbformat": 4,
 "nbformat_minor": 2
}
