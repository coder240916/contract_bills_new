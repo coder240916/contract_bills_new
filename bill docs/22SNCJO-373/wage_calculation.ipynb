{
 "cells": [
  {
   "cell_type": "code",
   "execution_count": 1,
   "metadata": {},
   "outputs": [],
   "source": [
    "import pandas as pd\n",
    "import os\n",
    "\n",
    "from copy import copy\n",
    "from openpyxl import load_workbook\n",
    "from openpyxl.styles import Border,Side,Alignment,Font,PatternFill\n",
    "from openpyxl.utils import get_column_letter"
   ]
  },
  {
   "cell_type": "code",
   "execution_count": 117,
   "metadata": {},
   "outputs": [],
   "source": [
    "month,year = 2,2024\n",
    "\n",
    "prof_tax = 150\n",
    "\n",
    "contract_no =\"22SNCJO-373\"\n",
    "pf,edli,esi,service_charges = 5293.5,211.74,1488.54,250.00\n",
    "\n",
    "ld,penalty,taxes,other_recovery = 0,0,0,0\n",
    "\n",
    "wages = pd.DataFrame({\"CATEGORY\":['SKILLED',\"SEMI-SKILLED\",\"UNSKILLED\"],\"Wage per day\":[709,589,504]})\n",
    "\n",
    "vendor_name = \"M/S SPRYSOFT TECHNOLOGIES PRIVATE LIMITED, HYDERABAD.\"\n",
    "\n",
    "month_st_dt = pd.Period(f\"{year}-{month}\").start_time.date().strftime(\"%d-%m-%Y\")\n",
    "month_end_dt = pd.Period(f\"{year}-{month}\").end_time.date().strftime(\"%d-%m-%Y\")\n",
    "\n",
    "month_year = pd.Period(f\"{year}-{month}\").start_time.date().strftime(\"%b-%Y\")\n",
    "month_line = f\"Due Wage Month:{month_year} from {month_st_dt} to {month_end_dt}\"\n",
    "\n",
    "vendor_name_line = f\"Name of Contractor : {vendor_name}\"\n",
    "\n",
    "attendance_path = os.path.join(\"attendance\",f\"attendance_format_{month}_{year}.xlsx\")\n",
    "\n",
    "template_path  = \"attendance.xlsx\""
   ]
  },
  {
   "cell_type": "code",
   "execution_count": 170,
   "metadata": {},
   "outputs": [],
   "source": [
    "def wage_calc_preprocessing(attendance_path,wages):\n",
    "    pf_esi_data = pd.read_excel(attendance_path,sheet_name=\"PF_ESI\",header=3).dropna(subset=[\"Name\"])\n",
    "    #wages[\"Days Present\"] = pf_esi_data.loc[pf_esi_data.Name.str.contains(\"TOTAL\"),\"Days Present\"].iloc[:-1].values\n",
    "    mandays = []\n",
    "    for category in wages.CATEGORY:\n",
    "        values = pf_esi_data.loc[pf_esi_data.Name == f\"{category} TOTAL\",\"Days Present\"].values\n",
    "        if  values.size > 0 :\n",
    "            mandays.append(values[0])\n",
    "        else:\n",
    "            mandays.append(0)\n",
    "    wages[\"Days Present\"] = mandays\n",
    "    wages = wages.reindex(wages.index[::-1]).reset_index(drop=True)\n",
    "    wages[\"SL NO\"] = [int(val)+1  for val in wages.index]\n",
    "    wages = pd.concat([wages.iloc[:,-1:],wages.iloc[:,:-1]],axis=1)\n",
    "    wages[\"mandays_pf\"] = wages[\"Days Present\"]\n",
    "    wages[\"total_gross_amount\"] = wages[\"Wage per day\"] * wages[\"Days Present\"]\n",
    "    return wages"
   ]
  },
  {
   "cell_type": "code",
   "execution_count": 171,
   "metadata": {},
   "outputs": [
    {
     "data": {
      "text/html": [
       "<div>\n",
       "<style scoped>\n",
       "    .dataframe tbody tr th:only-of-type {\n",
       "        vertical-align: middle;\n",
       "    }\n",
       "\n",
       "    .dataframe tbody tr th {\n",
       "        vertical-align: top;\n",
       "    }\n",
       "\n",
       "    .dataframe thead th {\n",
       "        text-align: right;\n",
       "    }\n",
       "</style>\n",
       "<table border=\"1\" class=\"dataframe\">\n",
       "  <thead>\n",
       "    <tr style=\"text-align: right;\">\n",
       "      <th></th>\n",
       "      <th>SL NO</th>\n",
       "      <th>CATEGORY</th>\n",
       "      <th>Wage per day</th>\n",
       "      <th>Days Present</th>\n",
       "      <th>mandays_pf</th>\n",
       "      <th>total_gross_amount</th>\n",
       "    </tr>\n",
       "  </thead>\n",
       "  <tbody>\n",
       "    <tr>\n",
       "      <th>0</th>\n",
       "      <td>1</td>\n",
       "      <td>UNSKILLED</td>\n",
       "      <td>504</td>\n",
       "      <td>24.5</td>\n",
       "      <td>24.5</td>\n",
       "      <td>12348.0</td>\n",
       "    </tr>\n",
       "    <tr>\n",
       "      <th>1</th>\n",
       "      <td>2</td>\n",
       "      <td>SEMI-SKILLED</td>\n",
       "      <td>589</td>\n",
       "      <td>25.5</td>\n",
       "      <td>25.5</td>\n",
       "      <td>15019.5</td>\n",
       "    </tr>\n",
       "    <tr>\n",
       "      <th>2</th>\n",
       "      <td>3</td>\n",
       "      <td>SKILLED</td>\n",
       "      <td>709</td>\n",
       "      <td>26.0</td>\n",
       "      <td>26.0</td>\n",
       "      <td>18434.0</td>\n",
       "    </tr>\n",
       "  </tbody>\n",
       "</table>\n",
       "</div>"
      ],
      "text/plain": [
       "   SL NO      CATEGORY  Wage per day  Days Present  mandays_pf  \\\n",
       "0      1     UNSKILLED           504          24.5        24.5   \n",
       "1      2  SEMI-SKILLED           589          25.5        25.5   \n",
       "2      3       SKILLED           709          26.0        26.0   \n",
       "\n",
       "   total_gross_amount  \n",
       "0             12348.0  \n",
       "1             15019.5  \n",
       "2             18434.0  "
      ]
     },
     "execution_count": 171,
     "metadata": {},
     "output_type": "execute_result"
    }
   ],
   "source": [
    "wage_calc_df = wage_calc_preprocessing(attendance_path,wages)\n",
    "wage_calc_df"
   ]
  },
  {
   "cell_type": "code",
   "execution_count": 132,
   "metadata": {},
   "outputs": [],
   "source": [
    "def generate_wage_calc_sheet(template_path,month,year,wage_calc_df,pf,esi,edli,service_charges,ld,penalty,taxes,other_recovery):\n",
    "    \n",
    "    month_year = pd.Period(f\"{year}-{month}\").start_time.date().strftime(\"%b-%Y\")\n",
    "\n",
    "    contract_line = f\"Contract Reference: {contract_no}\"\n",
    "    vendor_line = f\"Service Provider: {vendor_name}\"\n",
    "    month_line = f\"Month: {month_year}\"\n",
    "    \n",
    "    workbook = load_workbook(template_path)\n",
    "    sheet = workbook['Wage_Calculation']  # Update with your sheet's name\n",
    "    sheet.column_dimensions[\"B\"].width = 35\n",
    "    \n",
    "    cell = sheet.cell(row=4,column=1)\n",
    "    cell.value = contract_line\n",
    "\n",
    "    cell = sheet.cell(row=5,column=1)\n",
    "    cell.value = vendor_line\n",
    "\n",
    "    cell = sheet.cell(row=6,column=1)\n",
    "    cell.value = month_line\n",
    "    \n",
    "    start_row = 8\n",
    "    start_column = 3\n",
    "\n",
    "    for index, row in wage_calc_df.iloc[:,2:].iterrows():\n",
    "        for col_num, value in enumerate(row, start=start_column): \n",
    "\n",
    "            cell = sheet.cell(row=start_row + index, column=col_num)\n",
    "            cell.value = value\n",
    "            \n",
    "    start_row = 13\n",
    "    start_column = 3\n",
    "\n",
    "    for index, row in wage_calc_df[[\"Wage per day\"]].iterrows():\n",
    "        for col_num, value in enumerate(row, start=start_column): \n",
    "\n",
    "            cell = sheet.cell(row=start_row + index, column=col_num)\n",
    "            cell.value = value\n",
    "            \n",
    "    cell = sheet.cell(row=16,column=6)\n",
    "    cell.value = pf\n",
    "\n",
    "    cell = sheet.cell(row=17,column=6)\n",
    "    cell.value = esi\n",
    "\n",
    "    cell = sheet.cell(row=18,column=6)\n",
    "    cell.value = edli\n",
    "\n",
    "    cell = sheet.cell(row=20,column=6)\n",
    "    cell.value = service_charges\n",
    "    \n",
    "    sub_total = (wage_calc_df.sum()[\"total_gross_amount\"] + pf + esi + edli + service_charges) \n",
    "    gst = sub_total * 0.18\n",
    "    final_total = sub_total + gst\n",
    "    \n",
    "    cell = sheet.cell(row=21,column=6)\n",
    "    cell.value = gst\n",
    "\n",
    "    cell = sheet.cell(row=22,column=6)\n",
    "    cell.value = final_total\n",
    "\n",
    "    cell = sheet.cell(row=23,column=6)\n",
    "    cell.value = final_total\n",
    "\n",
    "    cell = sheet.cell(row=23,column=6)\n",
    "    cell.value = ld\n",
    "\n",
    "    cell = sheet.cell(row=24,column=6)\n",
    "    cell.value = penalty\n",
    "\n",
    "    cell = sheet.cell(row=25,column=6)\n",
    "    cell.value = taxes\n",
    "\n",
    "    cell = sheet.cell(row=26,column=6)\n",
    "    cell.value = other_recovery\n",
    "    \n",
    "    total_recovery = ld + penalty + taxes + other_recovery\n",
    "    cell = sheet.cell(row=27,column=6)\n",
    "    cell.value = total_recovery\n",
    "    \n",
    "    net_payable = final_total - total_recovery\n",
    "\n",
    "    cell = sheet.cell(row=28,column=6)\n",
    "    cell.value = net_payable\n",
    "    \n",
    "    return sheet\n",
    "    \n",
    "    \n",
    "\n",
    "    \n",
    "\n",
    "    "
   ]
  },
  {
   "cell_type": "code",
   "execution_count": 134,
   "metadata": {},
   "outputs": [],
   "source": [
    "sheet = generate_wage_calc_sheet(template_path,month,year,wage_calc_df,pf,esi,edli,service_charges,ld,penalty,taxes,other_recovery)"
   ]
  },
  {
   "cell_type": "code",
   "execution_count": 144,
   "metadata": {},
   "outputs": [],
   "source": [
    "def create_wage_calc_sheet(attendance_path,sheet):\n",
    "    attendance_workbook = load_workbook(attendance_path)\n",
    "\n",
    "    try:\n",
    "        if attendance_workbook[\"Wage_Calculation\"]:\n",
    "            attendance_workbook.remove(attendance_workbook[\"Wage_Calculation\"])\n",
    "            target_sheet = attendance_workbook.create_sheet(title = \"Wage_Calculation\")\n",
    "    except:\n",
    "        target_sheet = attendance_workbook.create_sheet(title = \"Wage_Calculation\")\n",
    "\n",
    "    for row in sheet.iter_rows(values_only=True):\n",
    "        target_sheet.append(row)\n",
    "\n",
    "    for row in range(1,sheet.max_row+1):\n",
    "        for col in range(1,sheet.max_column+1):\n",
    "            source_cell = sheet.cell(row=row,column=col)\n",
    "            target_cell = target_sheet.cell(row=row,column=col)\n",
    "            target_cell.number_format = source_cell.number_format\n",
    "            target_cell.font = copy(source_cell.font)\n",
    "            target_cell.alignment = copy(source_cell.alignment)\n",
    "            target_cell.border = copy(source_cell.border)\n",
    "            target_cell.fill = copy(source_cell.fill)\n",
    "\n",
    "    for col_idx,column in enumerate(sheet.columns,start=1):\n",
    "        target_sheet.column_dimensions[get_column_letter(col_idx)].width = sheet.column_dimensions[get_column_letter(col_idx)].width\n",
    "    \n",
    "    for row in sheet.iter_rows():\n",
    "        for cell in row:\n",
    "            target_sheet.row_dimensions[cell.row].height = sheet.row_dimensions[cell.row].height\n",
    "            \n",
    "    for merged_cell_range in sheet.merged_cells.ranges:\n",
    "        target_sheet.merge_cells(merged_cell_range.coord)\n",
    "        for merged_cell in merged_cell_range.cells:\n",
    "            target_cell = target_sheet.cell(row=merged_cell[0],column=merged_cell[1])\n",
    "#             if merged_cell[0]  in [2,3]:\n",
    "#                 target_cell.alignment = Alignment(horizontal=\"left\",vertical=\"center\")\n",
    "#             elif merged_cell[0]  in [4,5]:\n",
    "#                 target_cell.alignment = Alignment(horizontal=\"center\",vertical=\"center\",wrap_text=True)               \n",
    "#             else:\n",
    "            target_cell.alignment = Alignment(horizontal=\"left\",vertical=\"center\")\n",
    "\n",
    "    attendance_workbook.save(attendance_path)\n",
    "    return attendance_path"
   ]
  },
  {
   "cell_type": "code",
   "execution_count": 145,
   "metadata": {},
   "outputs": [
    {
     "data": {
      "text/plain": [
       "'attendance\\\\attendance_format_2_2024.xlsx'"
      ]
     },
     "execution_count": 145,
     "metadata": {},
     "output_type": "execute_result"
    }
   ],
   "source": [
    "create_wage_calc_sheet(attendance_path,sheet)"
   ]
  },
  {
   "cell_type": "code",
   "execution_count": 129,
   "metadata": {},
   "outputs": [],
   "source": [
    "workbook.save(\"wage_calc.xlsx\")"
   ]
  },
  {
   "cell_type": "code",
   "execution_count": 108,
   "metadata": {},
   "outputs": [
    {
     "data": {
      "text/plain": [
       "45801.5"
      ]
     },
     "execution_count": 108,
     "metadata": {},
     "output_type": "execute_result"
    }
   ],
   "source": [
    "wage_calc_df.sum()[\"total_gross_amount\"]"
   ]
  },
  {
   "cell_type": "code",
   "execution_count": null,
   "metadata": {},
   "outputs": [],
   "source": []
  }
 ],
 "metadata": {
  "kernelspec": {
   "display_name": "dashenv",
   "language": "python",
   "name": "dashenv"
  },
  "language_info": {
   "codemirror_mode": {
    "name": "ipython",
    "version": 3
   },
   "file_extension": ".py",
   "mimetype": "text/x-python",
   "name": "python",
   "nbconvert_exporter": "python",
   "pygments_lexer": "ipython3",
   "version": "3.10.12"
  }
 },
 "nbformat": 4,
 "nbformat_minor": 2
}
