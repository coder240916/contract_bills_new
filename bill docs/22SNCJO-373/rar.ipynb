{
 "cells": [
  {
   "cell_type": "code",
   "execution_count": 5,
   "metadata": {},
   "outputs": [],
   "source": [
    "import pandas as pd\n",
    "\n",
    "from openpyxl import load_workbook"
   ]
  },
  {
   "cell_type": "code",
   "execution_count": 14,
   "metadata": {},
   "outputs": [],
   "source": [
    "rar_data = pd.read_excel(\"attendance.xlsx\",sheet_name=\"RAR FEB 24 \",header=13)"
   ]
  },
  {
   "cell_type": "code",
   "execution_count": 22,
   "metadata": {},
   "outputs": [
    {
     "data": {
      "text/html": [
       "<div>\n",
       "<style scoped>\n",
       "    .dataframe tbody tr th:only-of-type {\n",
       "        vertical-align: middle;\n",
       "    }\n",
       "\n",
       "    .dataframe tbody tr th {\n",
       "        vertical-align: top;\n",
       "    }\n",
       "\n",
       "    .dataframe thead th {\n",
       "        text-align: right;\n",
       "    }\n",
       "</style>\n",
       "<table border=\"1\" class=\"dataframe\">\n",
       "  <thead>\n",
       "    <tr style=\"text-align: right;\">\n",
       "      <th></th>\n",
       "      <th>SL NO.</th>\n",
       "      <th>DESCRIPTION</th>\n",
       "      <th>QTY</th>\n",
       "      <th>UNIT</th>\n",
       "      <th>RATE</th>\n",
       "      <th>AMOUNT</th>\n",
       "    </tr>\n",
       "  </thead>\n",
       "  <tbody>\n",
       "    <tr>\n",
       "      <th>6</th>\n",
       "      <td>1</td>\n",
       "      <td>Minimum wages for Skilled category</td>\n",
       "      <td>298.00</td>\n",
       "      <td>Mandays</td>\n",
       "      <td>695.00</td>\n",
       "      <td>207110.00</td>\n",
       "    </tr>\n",
       "    <tr>\n",
       "      <th>7</th>\n",
       "      <td>2</td>\n",
       "      <td>Minimum wages for Semi Skilled category</td>\n",
       "      <td>298.00</td>\n",
       "      <td>Mandays</td>\n",
       "      <td>577.00</td>\n",
       "      <td>171946.00</td>\n",
       "    </tr>\n",
       "    <tr>\n",
       "      <th>8</th>\n",
       "      <td>3</td>\n",
       "      <td>Minimum wages for Un Skilled category</td>\n",
       "      <td>364.00</td>\n",
       "      <td>Mandays</td>\n",
       "      <td>494.00</td>\n",
       "      <td>179816.00</td>\n",
       "    </tr>\n",
       "    <tr>\n",
       "      <th>9</th>\n",
       "      <td>4</td>\n",
       "      <td>PF + EDLI + PF Admin Charges (Normal Mandays)</td>\n",
       "      <td>1290706.12</td>\n",
       "      <td>LS</td>\n",
       "      <td>1.00</td>\n",
       "      <td>1290706.12</td>\n",
       "    </tr>\n",
       "    <tr>\n",
       "      <th>10</th>\n",
       "      <td>5</td>\n",
       "      <td>ESI</td>\n",
       "      <td>330401.07</td>\n",
       "      <td>LS</td>\n",
       "      <td>1.00</td>\n",
       "      <td>330401.07</td>\n",
       "    </tr>\n",
       "    <tr>\n",
       "      <th>11</th>\n",
       "      <td>6</td>\n",
       "      <td>NH Wages</td>\n",
       "      <td>108606.78</td>\n",
       "      <td>LS</td>\n",
       "      <td>1.00</td>\n",
       "      <td>108606.78</td>\n",
       "    </tr>\n",
       "    <tr>\n",
       "      <th>12</th>\n",
       "      <td>7</td>\n",
       "      <td>Leave Wages</td>\n",
       "      <td>479378.88</td>\n",
       "      <td>LS</td>\n",
       "      <td>1.00</td>\n",
       "      <td>479378.88</td>\n",
       "    </tr>\n",
       "    <tr>\n",
       "      <th>13</th>\n",
       "      <td>8</td>\n",
       "      <td>Service charges for Skilled category</td>\n",
       "      <td>5520.00</td>\n",
       "      <td>Mandays</td>\n",
       "      <td>27.49</td>\n",
       "      <td>151744.80</td>\n",
       "    </tr>\n",
       "    <tr>\n",
       "      <th>14</th>\n",
       "      <td>9</td>\n",
       "      <td>Service charges for Semi Skilled category</td>\n",
       "      <td>4968.00</td>\n",
       "      <td>Mandays</td>\n",
       "      <td>23.00</td>\n",
       "      <td>114264.00</td>\n",
       "    </tr>\n",
       "    <tr>\n",
       "      <th>15</th>\n",
       "      <td>10</td>\n",
       "      <td>Service charges for Un Skilled category</td>\n",
       "      <td>6624.00</td>\n",
       "      <td>Mandays</td>\n",
       "      <td>19.69</td>\n",
       "      <td>130426.56</td>\n",
       "    </tr>\n",
       "    <tr>\n",
       "      <th>16</th>\n",
       "      <td>11</td>\n",
       "      <td>Minimum wages for Skilled category</td>\n",
       "      <td>5222.00</td>\n",
       "      <td>Mandays</td>\n",
       "      <td>709.00</td>\n",
       "      <td>3702398.00</td>\n",
       "    </tr>\n",
       "    <tr>\n",
       "      <th>17</th>\n",
       "      <td>12</td>\n",
       "      <td>Minimum wages for Semi Skilled category</td>\n",
       "      <td>4670.00</td>\n",
       "      <td>Mandays</td>\n",
       "      <td>589.00</td>\n",
       "      <td>2750630.00</td>\n",
       "    </tr>\n",
       "    <tr>\n",
       "      <th>18</th>\n",
       "      <td>13</td>\n",
       "      <td>Minimum wages for Un Skilled category</td>\n",
       "      <td>6260.00</td>\n",
       "      <td>Mandays</td>\n",
       "      <td>504.00</td>\n",
       "      <td>3155040.00</td>\n",
       "    </tr>\n",
       "  </tbody>\n",
       "</table>\n",
       "</div>"
      ],
      "text/plain": [
       "   SL NO.                                    DESCRIPTION         QTY     UNIT  \\\n",
       "6       1             Minimum wages for Skilled category      298.00  Mandays   \n",
       "7       2        Minimum wages for Semi Skilled category      298.00  Mandays   \n",
       "8       3          Minimum wages for Un Skilled category      364.00  Mandays   \n",
       "9       4  PF + EDLI + PF Admin Charges (Normal Mandays)  1290706.12       LS   \n",
       "10      5                                            ESI   330401.07       LS   \n",
       "11      6                                       NH Wages   108606.78       LS   \n",
       "12      7                                    Leave Wages   479378.88       LS   \n",
       "13      8           Service charges for Skilled category     5520.00  Mandays   \n",
       "14      9      Service charges for Semi Skilled category     4968.00  Mandays   \n",
       "15     10        Service charges for Un Skilled category     6624.00  Mandays   \n",
       "16     11             Minimum wages for Skilled category     5222.00  Mandays   \n",
       "17     12        Minimum wages for Semi Skilled category     4670.00  Mandays   \n",
       "18     13          Minimum wages for Un Skilled category     6260.00  Mandays   \n",
       "\n",
       "      RATE      AMOUNT  \n",
       "6   695.00   207110.00  \n",
       "7   577.00   171946.00  \n",
       "8   494.00   179816.00  \n",
       "9     1.00  1290706.12  \n",
       "10    1.00   330401.07  \n",
       "11    1.00   108606.78  \n",
       "12    1.00   479378.88  \n",
       "13   27.49   151744.80  \n",
       "14   23.00   114264.00  \n",
       "15   19.69   130426.56  \n",
       "16  709.00  3702398.00  \n",
       "17  589.00  2750630.00  \n",
       "18  504.00  3155040.00  "
      ]
     },
     "execution_count": 22,
     "metadata": {},
     "output_type": "execute_result"
    }
   ],
   "source": [
    "boq_data = rar_data.dropna(subset=[\"SL NO.\",\"DESCRIPTION\"]).iloc[:,:6]\n",
    "boq_data"
   ]
  },
  {
   "cell_type": "code",
   "execution_count": 24,
   "metadata": {},
   "outputs": [],
   "source": [
    "boq_data[\"CONTRACT_NO\"] = \"22SNCJO-373\""
   ]
  },
  {
   "cell_type": "code",
   "execution_count": 26,
   "metadata": {},
   "outputs": [],
   "source": [
    "boq_data.to_csv(\"boq.csv\",index=False)"
   ]
  },
  {
   "cell_type": "code",
   "execution_count": 39,
   "metadata": {},
   "outputs": [
    {
     "ename": "ModuleNotFoundError",
     "evalue": "No module named 'data_model_flask_alchemy'",
     "output_type": "error",
     "traceback": [
      "\u001b[1;31m---------------------------------------------------------------------------\u001b[0m",
      "\u001b[1;31mModuleNotFoundError\u001b[0m                       Traceback (most recent call last)",
      "Cell \u001b[1;32mIn[39], line 1\u001b[0m\n\u001b[1;32m----> 1\u001b[0m \u001b[38;5;28;01mfrom\u001b[39;00m  \u001b[38;5;21;01mdata_model_flask_alchemy\u001b[39;00m \u001b[38;5;28;01mimport\u001b[39;00m Contract, User, ContractEmployee, ManpowerWage, db\n",
      "\u001b[1;31mModuleNotFoundError\u001b[0m: No module named 'data_model_flask_alchemy'"
     ]
    }
   ],
   "source": []
  },
  {
   "cell_type": "code",
   "execution_count": null,
   "metadata": {},
   "outputs": [],
   "source": []
  },
  {
   "cell_type": "code",
   "execution_count": null,
   "metadata": {},
   "outputs": [],
   "source": [
    "present_bill_qty = [0,0,0,]"
   ]
  },
  {
   "cell_type": "code",
   "execution_count": 8,
   "metadata": {},
   "outputs": [
    {
     "name": "stdout",
     "output_type": "stream",
     "text": [
      "['RAR FEB 24 ', 'Invoice FEB 24', 'PF_ESI', 'ATTENDANCE', 'PaymentStatement FEB 24', 'PR SHEET FEB 24', 'CHECKLIST JAN 24', 'Wage_Calculation', 'Acceptance Report FEB 24']\n"
     ]
    }
   ],
   "source": [
    "rar_workbook = load_workbook(\"attendance.xlsx\")\n",
    "print(rar_workbook.sheetnames)"
   ]
  },
  {
   "cell_type": "code",
   "execution_count": null,
   "metadata": {},
   "outputs": [],
   "source": []
  }
 ],
 "metadata": {
  "kernelspec": {
   "display_name": "dashenv",
   "language": "python",
   "name": "dashenv"
  },
  "language_info": {
   "codemirror_mode": {
    "name": "ipython",
    "version": 3
   },
   "file_extension": ".py",
   "mimetype": "text/x-python",
   "name": "python",
   "nbconvert_exporter": "python",
   "pygments_lexer": "ipython3",
   "version": "3.10.12"
  }
 },
 "nbformat": 4,
 "nbformat_minor": 2
}
