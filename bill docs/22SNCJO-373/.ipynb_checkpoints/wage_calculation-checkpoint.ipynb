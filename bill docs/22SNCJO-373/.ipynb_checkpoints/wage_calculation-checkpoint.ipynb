{
 "cells": [
  {
   "cell_type": "code",
   "execution_count": 1,
   "metadata": {},
   "outputs": [],
   "source": [
    "import pandas as pd\n",
    "import os\n",
    "\n",
    "from copy import copy\n",
    "from openpyxl import load_workbook\n",
    "from openpyxl.styles import Border,Side,Alignment,Font,PatternFill\n",
    "from openpyxl.utils import get_column_letter"
   ]
  },
  {
   "cell_type": "code",
   "execution_count": 4,
   "metadata": {},
   "outputs": [],
   "source": [
    "month,year = 2,2024\n",
    "\n",
    "prof_tax = 150\n",
    "\n",
    "wages = pd.DataFrame({\"CATEGORY\":['SKILLED',\"SEMI-SKILLED\",\"UNSKILLED\"],\"Wage per day\":[709,589,504]})\n",
    "\n",
    "vendor_name = \"M/S SPRYSOFT TECHNOLOGIES PRIVATE LIMITED, HYDERABAD.\"\n",
    "\n",
    "month_st_dt = pd.Period(f\"{year}-{month}\").start_time.date().strftime(\"%d-%m-%Y\")\n",
    "month_end_dt = pd.Period(f\"{year}-{month}\").end_time.date().strftime(\"%d-%m-%Y\")\n",
    "\n",
    "month_year = pd.Period(f\"{year}-{month}\").start_time.date().strftime(\"%b-%Y\")\n",
    "month_line = f\"Due Wage Month:{month_year} from {month_st_dt} to {month_end_dt}\"\n",
    "\n",
    "vendor_name_line = f\"Name of Contractor : {vendor_name}\"\n",
    "\n",
    "attendance_path = os.path.join(\"attendance\",f\"attendance_format_{month}_{year}.xlsx\")\n",
    "\n",
    "template_path  = \"attendance.xlsx\""
   ]
  },
  {
   "cell_type": "code",
   "execution_count": 63,
   "metadata": {},
   "outputs": [],
   "source": [
    "def wage_calc_preprocessing(attendance_path,wages):\n",
    "    pf_esi_data = pd.read_excel(attendance_path,sheet_name=\"PF_ESI\",header=3).dropna(subset=[\"Name\"])\n",
    "    wages[\"Days Present\"] = pf_esi_data.loc[pf_esi_data.Name.str.contains(\"TOTAL\"),\"Days Present\"].iloc[:-1].values\n",
    "    wages = wages.reindex(wages.index[::-1]).reset_index(drop=True)\n",
    "    wages[\"SL NO\"] = [int(val)+1  for val in wages.index]\n",
    "    wages = pd.concat([wages.iloc[:,-1:],wages.iloc[:,:-1]],axis=1)\n",
    "    wages[\"mandays_pf\"] = wages[\"Days Present\"]\n",
    "    wages[\"total_gross_amount\"] = wages[\"Wage per day\"] * wages[\"Days Present\"]\n",
    "    return wages"
   ]
  },
  {
   "cell_type": "code",
   "execution_count": 64,
   "metadata": {},
   "outputs": [
    {
     "data": {
      "text/html": [
       "<div>\n",
       "<style scoped>\n",
       "    .dataframe tbody tr th:only-of-type {\n",
       "        vertical-align: middle;\n",
       "    }\n",
       "\n",
       "    .dataframe tbody tr th {\n",
       "        vertical-align: top;\n",
       "    }\n",
       "\n",
       "    .dataframe thead th {\n",
       "        text-align: right;\n",
       "    }\n",
       "</style>\n",
       "<table border=\"1\" class=\"dataframe\">\n",
       "  <thead>\n",
       "    <tr style=\"text-align: right;\">\n",
       "      <th></th>\n",
       "      <th>total_gross_amount</th>\n",
       "      <th>SL NO</th>\n",
       "      <th>CATEGORY</th>\n",
       "      <th>Wage per day</th>\n",
       "      <th>Days Present</th>\n",
       "      <th>mandays_pf</th>\n",
       "    </tr>\n",
       "  </thead>\n",
       "  <tbody>\n",
       "    <tr>\n",
       "      <th>0</th>\n",
       "      <td>17370.5</td>\n",
       "      <td>1</td>\n",
       "      <td>SKILLED</td>\n",
       "      <td>709</td>\n",
       "      <td>24.5</td>\n",
       "      <td>24.5</td>\n",
       "    </tr>\n",
       "    <tr>\n",
       "      <th>1</th>\n",
       "      <td>15019.5</td>\n",
       "      <td>2</td>\n",
       "      <td>SEMI-SKILLED</td>\n",
       "      <td>589</td>\n",
       "      <td>25.5</td>\n",
       "      <td>25.5</td>\n",
       "    </tr>\n",
       "    <tr>\n",
       "      <th>2</th>\n",
       "      <td>13104.0</td>\n",
       "      <td>3</td>\n",
       "      <td>UNSKILLED</td>\n",
       "      <td>504</td>\n",
       "      <td>26.0</td>\n",
       "      <td>26.0</td>\n",
       "    </tr>\n",
       "  </tbody>\n",
       "</table>\n",
       "</div>"
      ],
      "text/plain": [
       "   total_gross_amount  SL NO      CATEGORY  Wage per day  Days Present  \\\n",
       "0             17370.5      1       SKILLED           709          24.5   \n",
       "1             15019.5      2  SEMI-SKILLED           589          25.5   \n",
       "2             13104.0      3     UNSKILLED           504          26.0   \n",
       "\n",
       "   mandays_pf  \n",
       "0        24.5  \n",
       "1        25.5  \n",
       "2        26.0  "
      ]
     },
     "execution_count": 64,
     "metadata": {},
     "output_type": "execute_result"
    }
   ],
   "source": [
    "wage_calc_preprocessing(attendance_path,wages)"
   ]
  },
  {
   "cell_type": "code",
   "execution_count": 47,
   "metadata": {},
   "outputs": [],
   "source": []
  },
  {
   "cell_type": "code",
   "execution_count": 53,
   "metadata": {},
   "outputs": [],
   "source": []
  },
  {
   "cell_type": "code",
   "execution_count": 55,
   "metadata": {},
   "outputs": [],
   "source": []
  },
  {
   "cell_type": "code",
   "execution_count": 57,
   "metadata": {},
   "outputs": [],
   "source": []
  },
  {
   "cell_type": "code",
   "execution_count": 58,
   "metadata": {},
   "outputs": [
    {
     "data": {
      "text/html": [
       "<div>\n",
       "<style scoped>\n",
       "    .dataframe tbody tr th:only-of-type {\n",
       "        vertical-align: middle;\n",
       "    }\n",
       "\n",
       "    .dataframe tbody tr th {\n",
       "        vertical-align: top;\n",
       "    }\n",
       "\n",
       "    .dataframe thead th {\n",
       "        text-align: right;\n",
       "    }\n",
       "</style>\n",
       "<table border=\"1\" class=\"dataframe\">\n",
       "  <thead>\n",
       "    <tr style=\"text-align: right;\">\n",
       "      <th></th>\n",
       "      <th>SL NO</th>\n",
       "      <th>CATEGORY</th>\n",
       "      <th>Wage per day</th>\n",
       "      <th>Days Present</th>\n",
       "      <th>mandays_pf</th>\n",
       "      <th>total_gross_amount</th>\n",
       "    </tr>\n",
       "  </thead>\n",
       "  <tbody>\n",
       "    <tr>\n",
       "      <th>0</th>\n",
       "      <td>1</td>\n",
       "      <td>UNSKILLED</td>\n",
       "      <td>504</td>\n",
       "      <td>24.5</td>\n",
       "      <td>24.5</td>\n",
       "      <td>12348.0</td>\n",
       "    </tr>\n",
       "    <tr>\n",
       "      <th>1</th>\n",
       "      <td>2</td>\n",
       "      <td>SEMI-SKILLED</td>\n",
       "      <td>589</td>\n",
       "      <td>25.5</td>\n",
       "      <td>25.5</td>\n",
       "      <td>15019.5</td>\n",
       "    </tr>\n",
       "    <tr>\n",
       "      <th>2</th>\n",
       "      <td>3</td>\n",
       "      <td>SKILLED</td>\n",
       "      <td>709</td>\n",
       "      <td>26.0</td>\n",
       "      <td>26.0</td>\n",
       "      <td>18434.0</td>\n",
       "    </tr>\n",
       "  </tbody>\n",
       "</table>\n",
       "</div>"
      ],
      "text/plain": [
       "   SL NO      CATEGORY  Wage per day  Days Present  mandays_pf  \\\n",
       "0      1     UNSKILLED           504          24.5        24.5   \n",
       "1      2  SEMI-SKILLED           589          25.5        25.5   \n",
       "2      3       SKILLED           709          26.0        26.0   \n",
       "\n",
       "   total_gross_amount  \n",
       "0             12348.0  \n",
       "1             15019.5  \n",
       "2             18434.0  "
      ]
     },
     "execution_count": 58,
     "metadata": {},
     "output_type": "execute_result"
    }
   ],
   "source": [
    "wages"
   ]
  },
  {
   "cell_type": "code",
   "execution_count": null,
   "metadata": {},
   "outputs": [],
   "source": []
  }
 ],
 "metadata": {
  "kernelspec": {
   "display_name": "dashenv",
   "language": "python",
   "name": "dashenv"
  },
  "language_info": {
   "codemirror_mode": {
    "name": "ipython",
    "version": 3
   },
   "file_extension": ".py",
   "mimetype": "text/x-python",
   "name": "python",
   "nbconvert_exporter": "python",
   "pygments_lexer": "ipython3",
   "version": "3.10.12"
  }
 },
 "nbformat": 4,
 "nbformat_minor": 2
}
